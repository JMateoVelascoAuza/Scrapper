{
 "cells": [
  {
   "cell_type": "code",
   "execution_count": 1,
   "metadata": {},
   "outputs": [],
   "source": [
    "import openpyxl\n",
    "from unidecode import unidecode"
   ]
  },
  {
   "cell_type": "code",
   "execution_count": 2,
   "metadata": {},
   "outputs": [],
   "source": [
    "def compareNames(nombre_bdd,nombre_linkedin):\n",
    "    # Convertir los nombres a minúsculas y remover los acentos\n",
    "    nombre_linkedin = unidecode(nombre_linkedin.lower())\n",
    "    nombre_bdd = unidecode(nombre_bdd.lower())\n",
    "    # Dividir los nombres en palabras para buscarlas individualmente\n",
    "    palabras_linkedin = nombre_linkedin.split()\n",
    "    palabras_bdd = nombre_bdd.split()\n",
    "    # Contar el número de palabras de LinkedIn que están en el nombre de BDD\n",
    "    palabras_coincidentes = sum(\n",
    "        [palabra in palabras_bdd for palabra in palabras_linkedin]\n",
    "        )\n",
    "    # Calcular el porcentaje de similitud\n",
    "    porcentaje_similitud = 100 * palabras_coincidentes / len(palabras_linkedin)\n",
    "    return round(porcentaje_similitud,2)"
   ]
  },
  {
   "cell_type": "code",
   "execution_count": 4,
   "metadata": {},
   "outputs": [],
   "source": [
    "wb = openpyxl.load_workbook('PREGRADO Presentación V1(4) with links.xlsx')\n",
    "sheet = wb['electromecanica']\n",
    "\n",
    "names_bdd = []\n",
    "linkedin_names = []\n",
    "\n",
    "for row in sheet.iter_rows(min_row=2, values_only=True):\n",
    "    names_bdd.append(row[4])\n",
    "    linkedin_names.append(row[6])\n",
    "    # print(row[6])\n",
    "\n",
    "\n",
    "similar_percents = []\n",
    "\n",
    "\n",
    "for name, linkedin_name in zip(names_bdd, linkedin_names):\n",
    "    similar = compareNames(name,linkedin_name)\n",
    "    similar_percents.append(similar)\n",
    "\n"
   ]
  },
  {
   "cell_type": "code",
   "execution_count": 5,
   "metadata": {},
   "outputs": [],
   "source": [
    "for i, percent in enumerate(similar_percents,start=2):\n",
    "        sheet.cell(row=i+1, column=8).value = percent\n",
    "\n",
    "        \n",
    "wb.save('PREGRADO Presentación V1(4) with links.xlsx')"
   ]
  }
 ],
 "metadata": {
  "kernelspec": {
   "display_name": "Python 3",
   "language": "python",
   "name": "python3"
  },
  "language_info": {
   "codemirror_mode": {
    "name": "ipython",
    "version": 3
   },
   "file_extension": ".py",
   "mimetype": "text/x-python",
   "name": "python",
   "nbconvert_exporter": "python",
   "pygments_lexer": "ipython3",
   "version": "3.10.11"
  },
  "orig_nbformat": 4
 },
 "nbformat": 4,
 "nbformat_minor": 2
}
