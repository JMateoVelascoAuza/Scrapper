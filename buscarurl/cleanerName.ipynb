{
 "cells": [
  {
   "cell_type": "code",
   "execution_count": null,
   "metadata": {},
   "outputs": [],
   "source": [
    "import pandas as pd\n",
    "\n",
    "# Leer el archivo Excel\n",
    "df = pd.read_excel('ruta/al/archivo.xlsx')\n",
    "\n",
    "# Iterar por cada fila del DataFrame\n",
    "for index, row in df.iterrows():\n",
    "    # Obtener los nombres de LinkedIn y BDD\n",
    "    nombre_linkedin = row['NombreLinkedIn']\n",
    "    nombre_bdd = row['NombreBDD']\n",
    "\n",
    "    # Convertir los nombres a minúsculas para hacer la búsqueda más sencilla\n",
    "    nombre_linkedin = nombre_linkedin.lower()\n",
    "    nombre_bdd = nombre_bdd.lower()\n",
    "\n",
    "    # Dividir los nombres en palabras para buscarlas individualmente\n",
    "    palabras_linkedin = nombre_linkedin.split()\n",
    "    palabras_bdd = nombre_bdd.split()\n",
    "\n",
    "    # Contar el número de palabras de LinkedIn que están en el nombre de BDD\n",
    "    palabras_coincidentes = sum([palabra in palabras_bdd for palabra in palabras_linkedin])\n",
    "\n",
    "    # Calcular el porcentaje de similitud\n",
    "    porcentaje_similitud = 100 * palabras_coincidentes / len(palabras_linkedin)\n",
    "\n",
    "    # Imprimir los resultados\n",
    "    print(f'NombreLinkedIn: {nombre_linkedin}, NombreBDD: {nombre_bdd}, Porcentaje de similitud: {porcentaje_similitud}%')\n"
   ]
  },
  {
   "cell_type": "code",
   "execution_count": 2,
   "metadata": {},
   "outputs": [
    {
     "name": "stdout",
     "output_type": "stream",
     "text": [
      "NombreLinkedIn: juan perez, NombreBDD: juan gabriel perez, Porcentaje de similitud: 100.0%\n"
     ]
    }
   ],
   "source": [
    "from unidecode import unidecode\n",
    "nombre_linkedin = 'Juan Peréz'\n",
    "nombre_bdd = 'Juan Gabriel Perez'\n",
    "\n",
    "\n",
    "nombre_linkedin = unidecode(nombre_linkedin.lower())\n",
    "nombre_bdd = unidecode(nombre_bdd.lower())\n",
    "\n",
    "    # Dividir los nombres en palabras para buscarlas individualmente\n",
    "palabras_linkedin = nombre_linkedin.split()\n",
    "palabras_bdd = nombre_bdd.split()\n",
    "\n",
    "    # Contar el número de palabras de LinkedIn que están en el nombre de BDD\n",
    "palabras_coincidentes = sum([palabra in palabras_bdd for palabra in palabras_linkedin])\n",
    "\n",
    "    # Calcular el porcentaje de similitud\n",
    "porcentaje_similitud = 100 * palabras_coincidentes / len(palabras_linkedin)\n",
    "\n",
    "    # Imprimir los resultados\n",
    "print(f'NombreLinkedIn: {nombre_linkedin}, NombreBDD: {nombre_bdd}, Porcentaje de similitud: {porcentaje_similitud}%')"
   ]
  },
  {
   "cell_type": "code",
   "execution_count": null,
   "metadata": {},
   "outputs": [],
   "source": []
  },
  {
   "cell_type": "code",
   "execution_count": null,
   "metadata": {},
   "outputs": [],
   "source": []
  }
 ],
 "metadata": {
  "kernelspec": {
   "display_name": "Python 3",
   "language": "python",
   "name": "python3"
  },
  "language_info": {
   "codemirror_mode": {
    "name": "ipython",
    "version": 3
   },
   "file_extension": ".py",
   "mimetype": "text/x-python",
   "name": "python",
   "nbconvert_exporter": "python",
   "pygments_lexer": "ipython3",
   "version": "3.11.1"
  },
  "orig_nbformat": 4
 },
 "nbformat": 4,
 "nbformat_minor": 2
}
